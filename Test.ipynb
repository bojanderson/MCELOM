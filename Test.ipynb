{
 "metadata": {
  "language_info": {
   "codemirror_mode": {
    "name": "ipython",
    "version": 3
   },
   "file_extension": ".py",
   "mimetype": "text/x-python",
   "name": "python",
   "nbconvert_exporter": "python",
   "pygments_lexer": "ipython3",
   "version": "3.8.5-final"
  },
  "orig_nbformat": 2,
  "kernelspec": {
   "name": "python3",
   "display_name": "Python 3.8.5 64-bit (conda)",
   "metadata": {
    "interpreter": {
     "hash": "fda88316bc0cae616cf1e1af81a7bf334797f9245b2c108d72cc592a0d0ea839"
    }
   }
  }
 },
 "nbformat": 4,
 "nbformat_minor": 2,
 "cells": [
  {
   "source": [
    "# MCELOM\n",
    "\n",
    "## ***Monte-Carlo Elo Madness***\n",
    "\n",
    "### Monte-Carlo Simulation - Repeatedly repeating a process with a bit of randomness\n",
    "\n",
    "*aka simulating a tournament*\n",
    "\n",
    "### Elo - A simple rating system where win probability can be calculated from rankings\n",
    "\n",
    "*aka a way to predict the winner for each game*\n",
    "\n",
    "### Madness - It's March\n",
    "\n",
    "*I'm not explaining this one further*"
   ],
   "cell_type": "markdown",
   "metadata": {}
  },
  {
   "source": [
    "## Load Libraries"
   ],
   "cell_type": "markdown",
   "metadata": {}
  },
  {
   "cell_type": "code",
   "execution_count": 148,
   "metadata": {},
   "outputs": [],
   "source": [
    "import pandas as pd\n",
    "import openpyxl\n",
    "from random import randint"
   ]
  },
  {
   "source": [
    "## Load DataFrames"
   ],
   "cell_type": "markdown",
   "metadata": {}
  },
  {
   "cell_type": "code",
   "execution_count": 151,
   "metadata": {},
   "outputs": [],
   "source": [
    "df320 = pd.read_excel(\"data/538Data.xlsx\", sheet_name=\"320\")\n",
    "df319 = pd.read_excel(\"data/538Data.xlsx\", sheet_name=\"319\")\n",
    "df317 = pd.read_excel(\"data/538Data.xlsx\", sheet_name=\"317\")\n",
    "\n",
    "teamgame_df = pd.read_excel(\"data/BracketStructure.xlsx\", sheet_name=\"TeamGame\")\n",
    "game_df = pd.read_excel(\"data/BracketStructure.xlsx\", sheet_name=\"Game\")"
   ]
  },
  {
   "source": [
    "## Define Functions"
   ],
   "cell_type": "markdown",
   "metadata": {}
  },
  {
   "cell_type": "code",
   "execution_count": 144,
   "metadata": {},
   "outputs": [
    {
     "output_type": "stream",
     "name": "stdout",
     "text": [
      "   game_id goto_id team1_fromgame team2_fromgame  team1  team2  winner\n32     b31     c16            BYE            BYE    120    122     122\n"
     ]
    }
   ],
   "source": [
    "def calc_win_chance(df, team1_id, team2_id):\n",
    "    team1_rating = df[df.team_slot == team1_id].team_rating.values[0]\n",
    "    team2_rating = df[df.team_slot == team2_id].team_rating.values[0]\n",
    "\n",
    "    chance = 1.0/(1.0 + 10.0**(-(team1_rating - team2_rating) * 30.464 / 400.0))\n",
    "\n",
    "    return chance\n",
    "\n",
    "def pick_winner(teamdf, gamedf, gameid):\n",
    "    team1 = gamedf[gamedf.game_id == gameid].team1.values[0]\n",
    "    team2 = gamedf[gamedf.game_id == gameid].team2.values[0]\n",
    "\n",
    "    threshold = calc_win_chance(teamdf, team1, team2)\n",
    "\n",
    "    rand_outcome = randint(0,1001)/1000.0\n",
    "\n",
    "    return team1 if rand_outcome <= threshold else team2\n",
    "\n",
    "def advance_winner(gamedf, gameid, winner):\n",
    "    if gamedf[gamedf.game_id == gameid].team1.values[0] != winner and gamedf[gamedf.game_id == gameid].team2.values[0] != winner:\n",
    "        raise\n",
    "\n",
    "    i = game_df.index[game_df['game_id'] == gameid].tolist()[0]\n",
    "    nextgame = game_df['goto_id'][i]\n",
    "    game_df['winner'][i] = winner\n",
    "\n",
    "    ni = game_df.index[game_df['game_id'] == nextgame].tolist()[0]\n",
    "\n",
    "    if gameid == game_df['team1_fromgame'][ni]:\n",
    "        game_df['team1'][ni] = winner\n",
    "    elif gameid == game_df['team2_fromgame'][ni]:\n",
    "        game_df['team2'][ni] = winner\n",
    "    else:\n",
    "        raise\n",
    "    print(gamedf[gamedf.game_id == gameid])\n",
    "\n",
    "def simulate_games(gamesdf, teamsdf):\n",
    "    rounds = gamesdf.round.unique()\n"
   ]
  },
  {
   "cell_type": "code",
   "execution_count": null,
   "metadata": {},
   "outputs": [],
   "source": [
    "#calc_win_chance(df317, 120, 122)\n",
    "#for i in range(10):\n",
    "#    print(pick_winner(df317, game_df, \"b31\"))\n",
    "\n",
    "game = \"b31\"\n",
    "winning_team = pick_winner(df317, game_df, game)\n",
    "advance_winner(game_df, game, winning_team)"
   ]
  },
  {
   "cell_type": "code",
   "execution_count": 145,
   "metadata": {},
   "outputs": [
    {
     "output_type": "execute_result",
     "data": {
      "text/plain": [
       "game_id           b31\n",
       "goto_id           c16\n",
       "team1_fromgame    BYE\n",
       "team2_fromgame    BYE\n",
       "team1             120\n",
       "team2             122\n",
       "winner            122\n",
       "Name: 32, dtype: object"
      ]
     },
     "metadata": {},
     "execution_count": 145
    }
   ],
   "source": [
    "game_df.loc[32]"
   ]
  },
  {
   "cell_type": "code",
   "execution_count": 146,
   "metadata": {},
   "outputs": [
    {
     "output_type": "execute_result",
     "data": {
      "text/plain": [
       "game_id           c16\n",
       "goto_id           d08\n",
       "team1_fromgame    b31\n",
       "team2_fromgame    b32\n",
       "team1             122\n",
       "team2              -1\n",
       "winner             -1\n",
       "Name: 15, dtype: object"
      ]
     },
     "metadata": {},
     "execution_count": 146
    }
   ],
   "source": [
    "game_df.loc[15]"
   ]
  },
  {
   "cell_type": "code",
   "execution_count": 109,
   "metadata": {},
   "outputs": [
    {
     "output_type": "error",
     "ename": "AttributeError",
     "evalue": "'Int64Index' object has no attribute 'value'",
     "traceback": [
      "\u001b[1;31m---------------------------------------------------------------------------\u001b[0m",
      "\u001b[1;31mAttributeError\u001b[0m                            Traceback (most recent call last)",
      "\u001b[1;32m<ipython-input-109-75eac7af34c6>\u001b[0m in \u001b[0;36m<module>\u001b[1;34m\u001b[0m\n\u001b[1;32m----> 1\u001b[1;33m \u001b[0mx\u001b[0m \u001b[1;33m=\u001b[0m \u001b[0mgame_df\u001b[0m\u001b[1;33m.\u001b[0m\u001b[0mloc\u001b[0m\u001b[1;33m[\u001b[0m\u001b[0mgame_df\u001b[0m\u001b[1;33m.\u001b[0m\u001b[0mgame_id\u001b[0m \u001b[1;33m==\u001b[0m \u001b[1;34m\"b31\"\u001b[0m\u001b[1;33m]\u001b[0m\u001b[1;33m.\u001b[0m\u001b[0mindex\u001b[0m\u001b[1;33m.\u001b[0m\u001b[0mvalue\u001b[0m\u001b[1;33m\u001b[0m\u001b[1;33m\u001b[0m\u001b[0m\n\u001b[0m",
      "\u001b[1;31mAttributeError\u001b[0m: 'Int64Index' object has no attribute 'value'"
     ]
    }
   ],
   "source": [
    "x = game_df.loc[game_df.game_id == \"b31\"].index"
   ]
  },
  {
   "cell_type": "code",
   "execution_count": 168,
   "metadata": {},
   "outputs": [
    {
     "output_type": "execute_result",
     "data": {
      "text/plain": [
       "array([7, 6, 5, 4, 3, 2, 1], dtype=int64)"
      ]
     },
     "metadata": {},
     "execution_count": 168
    }
   ],
   "source": [
    "roundsnum = game_df[\"round\"].unique()\n",
    "\n",
    "roundsnum = roundsnum\n",
    "\n",
    "roundsnum"
   ]
  },
  {
   "cell_type": "code",
   "execution_count": 154,
   "metadata": {},
   "outputs": [
    {
     "output_type": "execute_result",
     "data": {
      "text/plain": [
       "<bound method DataFrame.round of    game_id goto_id team1_fromgame team2_fromgame  team1  team2  winner  round\n",
       "0      g01   Champ            f01            f02     -1     -1      -1      7\n",
       "1      f02     g01            e03            e04     -1     -1      -1      6\n",
       "2      f01     g01            e01            e02     -1     -1      -1      6\n",
       "3      e04     f02            d07            d08     -1     -1      -1      5\n",
       "4      e03     f02            d05            d06     -1     -1      -1      5\n",
       "..     ...     ...            ...            ...    ...    ...     ...    ...\n",
       "62     b01     c01            BYE            a01      0     -1      -1      2\n",
       "63     a04     b13            BYE            BYE     50     51      -1      1\n",
       "64     a03     b09            BYE            BYE     34     35      -1      1\n",
       "65     a02     b05            BYE            BYE     18     19      -1      1\n",
       "66     a01     b01            BYE            BYE      2      3      -1      1\n",
       "\n",
       "[67 rows x 8 columns]>"
      ]
     },
     "metadata": {},
     "execution_count": 154
    }
   ],
   "source": [
    "game_df.round"
   ]
  },
  {
   "cell_type": "code",
   "execution_count": null,
   "metadata": {},
   "outputs": [],
   "source": []
  }
 ]
}